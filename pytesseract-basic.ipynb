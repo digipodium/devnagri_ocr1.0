{
 "cells": [
  {
   "cell_type": "code",
   "execution_count": 1,
   "metadata": {},
   "outputs": [],
   "source": [
    "## reading  image from text"
   ]
  },
  {
   "cell_type": "code",
   "execution_count": 1,
   "metadata": {},
   "outputs": [],
   "source": [
    "import pytesseract"
   ]
  },
  {
   "cell_type": "code",
   "execution_count": 6,
   "metadata": {
    "collapsed": true,
    "jupyter": {
     "outputs_hidden": true
    }
   },
   "outputs": [
    {
     "name": "stdout",
     "output_type": "stream",
     "text": [
      "absl-py==0.9.0\n",
      "alabaster==0.7.12\n",
      "altair==4.0.1\n",
      "anaconda-client==1.7.2\n",
      "anaconda-navigator==1.9.7\n",
      "anaconda-project==0.8.3\n",
      "appdirs==1.4.3\n",
      "asn1crypto==1.3.0\n",
      "astor==0.8.1\n",
      "astroid==2.3.3\n",
      "astropy==4.0\n",
      "atomicwrites==1.3.0\n",
      "attrs==19.3.0\n",
      "Babel==2.8.0\n",
      "backcall==0.1.0\n",
      "backports.functools-lru-cache==1.6.1\n",
      "backports.os==0.1.1\n",
      "backports.shutil-get-terminal-size==1.0.0\n",
      "backports.tempfile==1.0\n",
      "backports.weakref==1.0.post1\n",
      "base58==2.0.0\n",
      "beautifulsoup4==4.8.2\n",
      "bitarray==1.2.1\n",
      "bkcharts==0.2\n",
      "bleach==3.1.0\n",
      "blinker==1.4\n",
      "blis==0.4.1\n",
      "bokeh==1.4.0\n",
      "boto==2.49.0\n",
      "boto3==1.12.19\n",
      "botocore==1.15.19\n",
      "Bottleneck==1.3.1\n",
      "cachetools==4.0.0\n",
      "catalogue==1.0.0\n",
      "certifi==2019.11.28\n",
      "cffi==1.13.2\n",
      "chardet==3.0.4\n",
      "Click==7.0\n",
      "cloudpickle==1.2.2\n",
      "clyent==1.2.2\n",
      "colorama==0.4.3\n",
      "comtypes==1.1.7\n",
      "conda==4.8.1\n",
      "conda-build==3.18.11\n",
      "conda-package-handling==1.6.0\n",
      "conda-verify==3.4.2\n",
      "contextlib2==0.6.0.post1\n",
      "crayons==0.3.0\n",
      "cryptography==2.8\n",
      "cycler==0.10.0\n",
      "cymem==2.0.3\n",
      "Cython==0.29.14\n",
      "cytoolz==0.10.1\n",
      "dask==2.10.1\n",
      "decorator==4.4.1\n",
      "defusedxml==0.6.0\n",
      "distlib==0.3.0\n",
      "distributed==2.10.0\n",
      "docutils==0.15.2\n",
      "dominate==2.4.0\n",
      "emoji==0.5.4\n",
      "entrypoints==0.3\n",
      "enum-compat==0.0.3\n",
      "et-xmlfile==1.0.1\n",
      "fastcache==1.1.0\n",
      "filelock==3.0.12\n",
      "Flask==1.1.1\n",
      "Flask-Bootstrap==3.3.7.1\n",
      "fsspec==0.6.2\n",
      "future==0.18.2\n",
      "gast==0.2.2\n",
      "gevent==1.4.0\n",
      "glob2==0.7\n",
      "google-auth==1.13.1\n",
      "google-auth-oauthlib==0.4.1\n",
      "google-pasta==0.2.0\n",
      "greenlet==0.4.15\n",
      "grpcio==1.28.1\n",
      "h5py==2.10.0\n",
      "HeapDict==1.0.1\n",
      "html5lib==1.0.1\n",
      "hypothesis==4.54.2\n",
      "idna==2.8\n",
      "imageio==2.6.1\n",
      "imagesize==1.2.0\n",
      "importlib-metadata==1.4.0\n",
      "ipykernel==5.1.4\n",
      "ipython==7.11.1\n",
      "ipython-genutils==0.2.0\n",
      "ipywidgets==7.5.1\n",
      "isort==4.3.21\n",
      "itsdangerous==1.1.0\n",
      "jdcal==1.4.1\n",
      "jedi==0.16.0\n",
      "Jinja2==2.10.3\n",
      "jmespath==0.9.5\n",
      "joblib==0.14.1\n",
      "json5==0.8.5\n",
      "jsonschema==3.2.0\n",
      "jupyter==1.0.0\n",
      "jupyter-client==5.3.4\n",
      "jupyter-console==6.1.0\n",
      "jupyter-core==4.6.1\n",
      "jupyterlab==1.2.5\n",
      "jupyterlab-server==1.0.6\n",
      "Keras-Applications==1.0.8\n",
      "Keras-Preprocessing==1.1.0\n",
      "keyring==21.1.0\n",
      "kiwisolver==1.1.0\n",
      "lazy-object-proxy==1.4.3\n",
      "libarchive-c==2.8\n",
      "llvmlite==0.31.0\n",
      "locket==0.2.0\n",
      "lxml==4.4.2\n",
      "Markdown==3.2.1\n",
      "MarkupSafe==1.1.1\n",
      "matplotlib==3.1.2\n",
      "mccabe==0.6.1\n",
      "menuinst==1.4.16\n",
      "mistune==0.8.4\n",
      "mkl-fft==1.0.15\n",
      "mkl-random==1.1.0\n",
      "mkl-service==2.3.0\n",
      "mock==3.0.5\n",
      "more-itertools==8.0.2\n",
      "mpmath==1.1.0\n",
      "msgpack==0.6.1\n",
      "multipledispatch==0.6.0\n",
      "murmurhash==1.0.2\n",
      "navigator-updater==0.2.1\n",
      "nbconvert==5.6.1\n",
      "nbformat==5.0.4\n",
      "networkx==2.4\n",
      "newsapi-python==0.2.6\n",
      "nltk==3.4.5\n",
      "nose==1.3.7\n",
      "notebook==6.0.3\n",
      "numba==0.48.0\n",
      "numexpr==2.7.0\n",
      "numpy==1.18.1\n",
      "numpydoc==0.9.2\n",
      "oauthlib==3.1.0\n",
      "olefile==0.46\n",
      "openpyxl==3.0.3\n",
      "opt-einsum==3.2.0\n",
      "packaging==20.1\n",
      "pandas==1.0.0\n",
      "pandocfilters==1.4.2\n",
      "parso==0.6.0\n",
      "partd==1.1.0\n",
      "path==13.1.0\n",
      "pathlib2==2.3.5\n",
      "pathtools==0.1.2\n",
      "patsy==0.5.1\n",
      "pep8==1.7.1\n",
      "pickleshare==0.7.5\n",
      "piexif==1.1.3\n",
      "Pillow==7.0.0\n",
      "pkginfo==1.5.0.1\n",
      "plac==1.1.3\n",
      "plotly==4.5.0\n",
      "plotly-express==0.4.1\n",
      "pluggy==0.13.1\n",
      "ply==3.11\n",
      "preshed==3.0.2\n",
      "prometheus-client==0.7.1\n",
      "prompt-toolkit==3.0.3\n",
      "protobuf==3.11.3\n",
      "psutil==5.6.7\n",
      "py==1.8.1\n",
      "pyasn1==0.4.8\n",
      "pyasn1-modules==0.2.8\n",
      "pycodestyle==2.5.0\n",
      "pycosat==0.6.3\n",
      "pycparser==2.19\n",
      "pycrypto==2.6.1\n",
      "pycurl==7.43.0.4\n",
      "pydeck==0.3.0b2\n",
      "pydub==0.23.1\n",
      "pyflakes==2.1.1\n",
      "Pygments==2.5.2\n",
      "pylint==2.4.4\n",
      "pyodbc==4.0.28\n",
      "pyOpenSSL==19.1.0\n",
      "pyparsing==2.4.6\n",
      "pyreadline==2.1\n",
      "pyrsistent==0.15.7\n",
      "PySocks==1.7.1\n",
      "pytesseract==0.3.3\n",
      "pytest==5.3.4\n",
      "pytest-arraydiff==0.3\n",
      "pytest-astropy==0.7.0\n",
      "pytest-astropy-header==0.1.1\n",
      "pytest-doctestplus==0.5.0\n",
      "pytest-openfiles==0.4.0\n",
      "pytest-remotedata==0.3.2\n",
      "python-dateutil==2.8.0\n",
      "pytz==2019.3\n",
      "PyWavelets==1.1.1\n",
      "pywin32==227\n",
      "pywin32-ctypes==0.2.0\n",
      "pywinpty==0.5.7\n",
      "PyYAML==5.2\n",
      "pyzmq==18.1.0\n",
      "QtAwesome==0.6.1\n",
      "qtconsole==4.6.0\n",
      "QtPy==1.9.0\n",
      "requests==2.22.0\n",
      "requests-oauthlib==1.3.0\n",
      "retrying==1.3.3\n",
      "rope==0.16.0\n",
      "rsa==4.0\n",
      "ruamel-yaml==0.15.87\n",
      "s3transfer==0.3.3\n",
      "scikit-image==0.16.2\n",
      "scikit-learn==0.22.1\n",
      "scipy==1.4.1\n",
      "seaborn==0.10.0\n",
      "Send2Trash==1.5.0\n",
      "simplegeneric==0.8.1\n",
      "singledispatch==3.4.0.3\n",
      "six==1.14.0\n",
      "snowballstemmer==2.0.0\n",
      "sortedcollections==1.1.2\n",
      "sortedcontainers==2.1.0\n",
      "soupsieve==1.9.5\n",
      "spacy==2.2.4\n",
      "Sphinx==2.3.1\n",
      "sphinxcontrib-applehelp==1.0.1\n",
      "sphinxcontrib-devhelp==1.0.1\n",
      "sphinxcontrib-htmlhelp==1.0.2\n",
      "sphinxcontrib-jsmath==1.0.1\n",
      "sphinxcontrib-qthelp==1.0.2\n",
      "sphinxcontrib-serializinghtml==1.1.3\n",
      "sphinxcontrib-websupport==1.1.2\n",
      "spyder==3.3.6\n",
      "spyder-kernels==0.5.2\n",
      "SQLAlchemy==1.3.13\n",
      "srsly==1.0.2\n",
      "statsmodels==0.11.0\n",
      "Stegano==0.9.7\n",
      "streamlit==0.56.0\n",
      "sympy==1.5.1\n",
      "tables==3.6.1\n",
      "tblib==1.6.0\n",
      "tensorboard==2.1.1\n",
      "tensorflow==2.1.0\n",
      "tensorflow-estimator==2.1.0\n",
      "termcolor==1.1.0\n",
      "terminado==0.8.3\n",
      "testpath==0.4.4\n",
      "textblob==0.15.3\n",
      "thinc==7.4.0\n",
      "toml==0.10.0\n",
      "toolz==0.10.0\n",
      "tornado==5.1.1\n",
      "tqdm==4.42.0\n",
      "traitlets==4.3.3\n",
      "tzlocal==2.0.0\n",
      "unicode==2.7\n",
      "unicodecsv==0.14.1\n",
      "unistego==0.1.0\n",
      "urllib3==1.25.8\n",
      "validators==0.14.2\n",
      "virtualenv==20.0.16\n",
      "visitor==0.1.3\n",
      "wasabi==0.6.0\n",
      "watchdog==0.10.2\n",
      "wcwidth==0.1.7\n",
      "webencodings==0.5.1\n",
      "Werkzeug==0.16.1\n",
      "widgetsnbextension==3.5.1\n",
      "win-inet-pton==1.1.0\n",
      "win-unicode-console==0.5\n",
      "wincertstore==0.2\n",
      "wrapt==1.11.2\n",
      "xlrd==1.2.0\n",
      "XlsxWriter==1.2.7\n",
      "xlwings==0.17.0\n",
      "xlwt==1.3.0\n",
      "zict==1.0.0\n",
      "zipp==0.6.0\n"
     ]
    },
    {
     "name": "stderr",
     "output_type": "stream",
     "text": [
      "WARNING: Could not generate requirement for distribution -cipy 1.3.2 (c:\\programdata\\anaconda3\\lib\\site-packages): Parse error at \"'-cipy==1'\": Expected W:(abcd...)\n"
     ]
    }
   ],
   "source": [
    "!pip freeze"
   ]
  },
  {
   "cell_type": "code",
   "execution_count": 2,
   "metadata": {},
   "outputs": [],
   "source": [
    "from PIL import Image\n"
   ]
  },
  {
   "cell_type": "code",
   "execution_count": 3,
   "metadata": {},
   "outputs": [],
   "source": [
    "pytesseract.pytesseract.tesseract_cmd = r'C:\\Program Files\\Tesseract-OCR\\tesseract.exe'"
   ]
  },
  {
   "cell_type": "code",
   "execution_count": 4,
   "metadata": {},
   "outputs": [],
   "source": [
    "#Load Image\n",
    "img=Image.open('image.png')"
   ]
  },
  {
   "cell_type": "code",
   "execution_count": 5,
   "metadata": {},
   "outputs": [
    {
     "data": {
      "image/png": "[encoded data removed]",
      "text/plain": [
       "<PIL.PngImagePlugin.PngImageFile image mode=P size=204x246 at 0x1FBC2125E08>"
      ]
     },
     "execution_count": 5,
     "metadata": {},
     "output_type": "execute_result"
    }
   ],
   "source": [
    "img"
   ]
  },
  {
   "cell_type": "code",
   "execution_count": 6,
   "metadata": {},
   "outputs": [],
   "source": [
    "pytesseract.pytesseract.tesseract_cmd = r'C:\\Program Files\\Tesseract-OCR\\tesseract.exe'"
   ]
  },
  {
   "cell_type": "code",
   "execution_count": 7,
   "metadata": {},
   "outputs": [],
   "source": [
    "#Extract text from image\n",
    "text = pytesseract.image_to_string(img)"
   ]
  },
  {
   "cell_type": "code",
   "execution_count": 8,
   "metadata": {},
   "outputs": [
    {
     "name": "stdout",
     "output_type": "stream",
     "text": [
      "7\n",
      "» (0) 8)\n",
      "ARE ONLY\n",
      "CONFINED\n",
      "ANE URRZN AE\n",
      "YOU BUILD\n",
      "\n",
      "YOURSELF”\n"
     ]
    }
   ],
   "source": [
    "#Print extracted text\n",
    "print(text)"
   ]
  },
  {
   "cell_type": "code",
   "execution_count": 9,
   "metadata": {},
   "outputs": [],
   "source": [
    "img1=Image.open('poem.png')"
   ]
  },
  {
   "cell_type": "code",
   "execution_count": 10,
   "metadata": {},
   "outputs": [],
   "source": [
    "text = pytesseract.image_to_string(img1)"
   ]
  },
  {
   "cell_type": "code",
   "execution_count": 11,
   "metadata": {},
   "outputs": [
    {
     "name": "stdout",
     "output_type": "stream",
     "text": [
      "at ont agt ah\n",
      "rere\n",
      "ont at gat air 8 street a\n",
      "aart\n",
      "eit\n",
      "‘aa\n",
      "uri a aeerat\n",
      "oie\n",
      "wana are\n",
      "eee es\n",
      "ya fafsar\n",
      "ait art\n",
      "\n",
      "RT STTeRTET\n"
     ]
    }
   ],
   "source": [
    "print(text)"
   ]
  },
  {
   "cell_type": "code",
   "execution_count": null,
   "metadata": {},
   "outputs": [],
   "source": []
  }
 ],
 "metadata": {
  "kernelspec": {
   "display_name": "Python 3",
   "language": "python",
   "name": "python3"
  },
  "language_info": {
   "codemirror_mode": {
    "name": "ipython",
    "version": 3
   },
   "file_extension": ".py",
   "mimetype": "text/x-python",
   "name": "python",
   "nbconvert_exporter": "python",
   "pygments_lexer": "ipython3",
   "version": "3.7.6"
  }
 },
 "nbformat": 4,
 "nbformat_minor": 4
}
